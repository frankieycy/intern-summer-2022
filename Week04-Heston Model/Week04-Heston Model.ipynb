{
 "cells": [
  {
   "cell_type": "markdown",
   "id": "29b036ce",
   "metadata": {},
   "source": [
    "# Week04-Heston Model"
   ]
  },
  {
   "cell_type": "markdown",
   "id": "9ef12499",
   "metadata": {},
   "source": [
    "# Calibration Framework"
   ]
  },
  {
   "cell_type": "markdown",
   "id": "6e2d7616",
   "metadata": {},
   "source": [
    "## Characteristic Function"
   ]
  },
  {
   "cell_type": "markdown",
   "id": "21e75923",
   "metadata": {},
   "source": [
    "## Carr-Madan FFT"
   ]
  },
  {
   "cell_type": "markdown",
   "id": "1231fcf9",
   "metadata": {},
   "source": [
    "## Fang COS"
   ]
  },
  {
   "cell_type": "markdown",
   "id": "eb4995f3",
   "metadata": {},
   "source": [
    "## Loss Function"
   ]
  },
  {
   "cell_type": "markdown",
   "id": "00457cf7",
   "metadata": {},
   "source": [
    "## Term-structure from Lewis Formula"
   ]
  },
  {
   "cell_type": "markdown",
   "id": "0ecf61b5",
   "metadata": {},
   "source": [
    "## Decrypting Characteristic Function"
   ]
  },
  {
   "cell_type": "markdown",
   "id": "d634082a",
   "metadata": {},
   "source": [
    "# Heston Model"
   ]
  },
  {
   "cell_type": "markdown",
   "id": "c80b9b30",
   "metadata": {},
   "source": [
    "## Affine Forward Variance"
   ]
  },
  {
   "cell_type": "markdown",
   "id": "541350b8",
   "metadata": {},
   "source": [
    "## Riccati Equation"
   ]
  },
  {
   "cell_type": "markdown",
   "id": "66b184a9",
   "metadata": {},
   "source": [
    "## Characteristic Function"
   ]
  },
  {
   "cell_type": "markdown",
   "id": "cc645e3a",
   "metadata": {},
   "source": [
    "## ATM Term-structure and Skew Decay"
   ]
  },
  {
   "cell_type": "markdown",
   "id": "b2794eb7",
   "metadata": {},
   "source": [
    "## Typical Surface"
   ]
  },
  {
   "cell_type": "markdown",
   "id": "e4c1b4ad",
   "metadata": {},
   "source": [
    "## Model Parameters"
   ]
  },
  {
   "cell_type": "markdown",
   "id": "d73c3a25",
   "metadata": {},
   "source": [
    "## SPX Surface Calibration"
   ]
  },
  {
   "cell_type": "markdown",
   "id": "0a44503d",
   "metadata": {},
   "source": [
    "## SPX Slicewise Calibration"
   ]
  },
  {
   "cell_type": "markdown",
   "id": "8cc3a303",
   "metadata": {},
   "source": [
    "# Comparison with SVI"
   ]
  },
  {
   "cell_type": "code",
   "execution_count": null,
   "id": "86129390",
   "metadata": {},
   "outputs": [],
   "source": []
  }
 ],
 "metadata": {
  "kernelspec": {
   "display_name": "Python 3",
   "language": "python",
   "name": "python3"
  },
  "language_info": {
   "codemirror_mode": {
    "name": "ipython",
    "version": 3
   },
   "file_extension": ".py",
   "mimetype": "text/x-python",
   "name": "python",
   "nbconvert_exporter": "python",
   "pygments_lexer": "ipython3",
   "version": "3.8.8"
  }
 },
 "nbformat": 4,
 "nbformat_minor": 5
}
