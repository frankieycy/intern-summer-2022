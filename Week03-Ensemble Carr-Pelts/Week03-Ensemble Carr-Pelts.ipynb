{
 "cells": [
  {
   "cell_type": "markdown",
   "id": "fdf5ba66",
   "metadata": {},
   "source": [
    "# Week03-Ensemble Carr-Pelts"
   ]
  },
  {
   "cell_type": "markdown",
   "id": "9a981979",
   "metadata": {},
   "source": [
    "# Carr-Pelts Surface"
   ]
  },
  {
   "cell_type": "markdown",
   "id": "1a517fa8",
   "metadata": {},
   "source": [
    "## Calibration Routine"
   ]
  },
  {
   "cell_type": "markdown",
   "id": "dc31531c",
   "metadata": {},
   "source": [
    "## Local Volatility and No-arbitrage"
   ]
  },
  {
   "cell_type": "markdown",
   "id": "825592e3",
   "metadata": {},
   "source": [
    "## Interpretation"
   ]
  },
  {
   "cell_type": "markdown",
   "id": "2ef68ed0",
   "metadata": {},
   "source": [
    "## SPX Calibration"
   ]
  },
  {
   "cell_type": "markdown",
   "id": "7dd5ebe5",
   "metadata": {},
   "source": [
    "### Fixed Vol Params"
   ]
  },
  {
   "cell_type": "markdown",
   "id": "53a1db8e",
   "metadata": {},
   "source": [
    "### Free Vol Params"
   ]
  },
  {
   "cell_type": "markdown",
   "id": "16bf3f92",
   "metadata": {},
   "source": [
    "# Ensemble Carr-Pelts Surface"
   ]
  },
  {
   "cell_type": "markdown",
   "id": "21ed8ebe",
   "metadata": {},
   "source": [
    "## Local Volatility"
   ]
  },
  {
   "cell_type": "markdown",
   "id": "42f10edd",
   "metadata": {},
   "source": [
    "## SPX Calibration"
   ]
  },
  {
   "cell_type": "markdown",
   "id": "0a3ee2e0",
   "metadata": {},
   "source": [
    "## Modes of Surface"
   ]
  },
  {
   "cell_type": "markdown",
   "id": "07219531",
   "metadata": {},
   "source": [
    "## Calibration Settings"
   ]
  },
  {
   "cell_type": "markdown",
   "id": "e2adb22d",
   "metadata": {},
   "source": [
    "# Comparison with SVI"
   ]
  },
  {
   "cell_type": "code",
   "execution_count": null,
   "id": "c86e91ed",
   "metadata": {},
   "outputs": [],
   "source": []
  }
 ],
 "metadata": {
  "kernelspec": {
   "display_name": "Python 3",
   "language": "python",
   "name": "python3"
  },
  "language_info": {
   "codemirror_mode": {
    "name": "ipython",
    "version": 3
   },
   "file_extension": ".py",
   "mimetype": "text/x-python",
   "name": "python",
   "nbconvert_exporter": "python",
   "pygments_lexer": "ipython3",
   "version": "3.8.8"
  }
 },
 "nbformat": 4,
 "nbformat_minor": 5
}
