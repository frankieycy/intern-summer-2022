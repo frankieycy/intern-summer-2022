{
 "cells": [
  {
   "cell_type": "markdown",
   "id": "9fc1698f",
   "metadata": {},
   "source": [
    "# Week06-Levy Model"
   ]
  },
  {
   "cell_type": "markdown",
   "id": "68216f8d",
   "metadata": {},
   "source": [
    "# Levy Process"
   ]
  },
  {
   "cell_type": "markdown",
   "id": "b32c1274",
   "metadata": {},
   "source": [
    "## Levy-Ito Decomposition"
   ]
  },
  {
   "cell_type": "markdown",
   "id": "378d7487",
   "metadata": {},
   "source": [
    "## Levy Measure"
   ]
  },
  {
   "cell_type": "markdown",
   "id": "f350b503",
   "metadata": {},
   "source": [
    "### Finite Activity"
   ]
  },
  {
   "cell_type": "markdown",
   "id": "349ef198",
   "metadata": {},
   "source": [
    "### Infinite Acticity"
   ]
  },
  {
   "cell_type": "markdown",
   "id": "02e9ab8c",
   "metadata": {},
   "source": [
    "## Example: VG Model"
   ]
  },
  {
   "cell_type": "markdown",
   "id": "49486bf3",
   "metadata": {},
   "source": [
    "### Time-change"
   ]
  },
  {
   "cell_type": "markdown",
   "id": "2085c82f",
   "metadata": {},
   "source": [
    "### Levy Measure"
   ]
  },
  {
   "cell_type": "markdown",
   "id": "cedf425a",
   "metadata": {},
   "source": [
    "### Characteristic Function"
   ]
  },
  {
   "cell_type": "markdown",
   "id": "95e05ce6",
   "metadata": {},
   "source": [
    "## Market Completeness"
   ]
  },
  {
   "cell_type": "markdown",
   "id": "7ebb8ec1",
   "metadata": {},
   "source": [
    "# CGMY Model"
   ]
  },
  {
   "cell_type": "markdown",
   "id": "5a0266d5",
   "metadata": {},
   "source": [
    "## Levy Measure"
   ]
  },
  {
   "cell_type": "markdown",
   "id": "c81b05e1",
   "metadata": {},
   "source": [
    "## Characteristic Function"
   ]
  },
  {
   "cell_type": "markdown",
   "id": "0dc7d8c2",
   "metadata": {},
   "source": [
    "## Typical Surface"
   ]
  },
  {
   "cell_type": "markdown",
   "id": "0745065c",
   "metadata": {},
   "source": [
    "## Model Parameters"
   ]
  },
  {
   "cell_type": "markdown",
   "id": "37d5bff0",
   "metadata": {},
   "source": [
    "## SPX Slicewise Calibration"
   ]
  },
  {
   "cell_type": "markdown",
   "id": "6ef268af",
   "metadata": {},
   "source": [
    "# BG Model"
   ]
  },
  {
   "cell_type": "markdown",
   "id": "9ccd3d96",
   "metadata": {},
   "source": [
    "## Levy Measure"
   ]
  },
  {
   "cell_type": "markdown",
   "id": "a018ecde",
   "metadata": {},
   "source": [
    "## Characteristic Function"
   ]
  },
  {
   "cell_type": "markdown",
   "id": "6f34e8b1",
   "metadata": {},
   "source": [
    "## Typical Surface"
   ]
  },
  {
   "cell_type": "markdown",
   "id": "64e8680d",
   "metadata": {},
   "source": [
    "## Model Parameters"
   ]
  },
  {
   "cell_type": "markdown",
   "id": "9f6db6cb",
   "metadata": {},
   "source": [
    "## SPX Slicewise Calibration"
   ]
  },
  {
   "cell_type": "markdown",
   "id": "80db48df",
   "metadata": {},
   "source": [
    "# CGMY-SA Model"
   ]
  },
  {
   "cell_type": "markdown",
   "id": "1caa5f89",
   "metadata": {},
   "source": [
    "## Stochastic Arrivals"
   ]
  },
  {
   "cell_type": "markdown",
   "id": "01db8b5d",
   "metadata": {},
   "source": [
    "## Characteristic Function"
   ]
  },
  {
   "cell_type": "markdown",
   "id": "b5c13391",
   "metadata": {},
   "source": [
    "## Typical Surface"
   ]
  },
  {
   "cell_type": "markdown",
   "id": "7973bcf6",
   "metadata": {},
   "source": [
    "## Model Parameters"
   ]
  },
  {
   "cell_type": "markdown",
   "id": "471d7bcb",
   "metadata": {},
   "source": [
    "## SPX Surface Calibration"
   ]
  },
  {
   "cell_type": "markdown",
   "id": "7d7aca50",
   "metadata": {},
   "source": [
    "# Comparison: CGMY-SA vs. SVI"
   ]
  },
  {
   "cell_type": "code",
   "execution_count": null,
   "id": "43d27255",
   "metadata": {},
   "outputs": [],
   "source": []
  }
 ],
 "metadata": {
  "kernelspec": {
   "display_name": "Python 3",
   "language": "python",
   "name": "python3"
  },
  "language_info": {
   "codemirror_mode": {
    "name": "ipython",
    "version": 3
   },
   "file_extension": ".py",
   "mimetype": "text/x-python",
   "name": "python",
   "nbconvert_exporter": "python",
   "pygments_lexer": "ipython3",
   "version": "3.8.8"
  }
 },
 "nbformat": 4,
 "nbformat_minor": 5
}
