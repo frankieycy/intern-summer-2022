{
 "cells": [
  {
   "cell_type": "markdown",
   "id": "f731f59e",
   "metadata": {},
   "source": [
    "# Week05-Jump Model"
   ]
  },
  {
   "cell_type": "markdown",
   "id": "b78c39e9",
   "metadata": {},
   "source": [
    "# Merton Model"
   ]
  },
  {
   "cell_type": "markdown",
   "id": "3fccd2aa",
   "metadata": {},
   "source": [
    "## Levy Theorem"
   ]
  },
  {
   "cell_type": "markdown",
   "id": "5d39d99f",
   "metadata": {},
   "source": [
    "## Characteristic Function"
   ]
  },
  {
   "cell_type": "markdown",
   "id": "f44d2653",
   "metadata": {},
   "source": [
    "## Skew and Moment Decay"
   ]
  },
  {
   "cell_type": "markdown",
   "id": "c75fe36a",
   "metadata": {},
   "source": [
    "## Typical Surface"
   ]
  },
  {
   "cell_type": "markdown",
   "id": "1eea3ded",
   "metadata": {},
   "source": [
    "## Model Parameters"
   ]
  },
  {
   "cell_type": "markdown",
   "id": "9cb39049",
   "metadata": {},
   "source": [
    "## SPX Surface Calibration"
   ]
  },
  {
   "cell_type": "markdown",
   "id": "e1671a48",
   "metadata": {},
   "source": [
    "## SPX Slicewise Calibration"
   ]
  },
  {
   "cell_type": "markdown",
   "id": "22683b48",
   "metadata": {},
   "source": [
    "## Market Completeness and Pricing PDE"
   ]
  },
  {
   "cell_type": "markdown",
   "id": "651315a0",
   "metadata": {},
   "source": [
    "# SVJ Model"
   ]
  },
  {
   "cell_type": "markdown",
   "id": "d6b9f37a",
   "metadata": {},
   "source": [
    "## Characteristic Function"
   ]
  },
  {
   "cell_type": "markdown",
   "id": "7201e0d3",
   "metadata": {},
   "source": [
    "## Typical Surface"
   ]
  },
  {
   "cell_type": "markdown",
   "id": "52fb2605",
   "metadata": {},
   "source": [
    "## Decoupled Heston/Merton Skew"
   ]
  },
  {
   "cell_type": "markdown",
   "id": "09bd3b63",
   "metadata": {},
   "source": [
    "## SPX Surface Calibration"
   ]
  },
  {
   "cell_type": "markdown",
   "id": "22782811",
   "metadata": {},
   "source": [
    "# SVJJ Model"
   ]
  },
  {
   "cell_type": "markdown",
   "id": "cfaa3934",
   "metadata": {},
   "source": [
    "## Characteristic Function"
   ]
  },
  {
   "cell_type": "markdown",
   "id": "bddb7801",
   "metadata": {},
   "source": [
    "## SVJ is More Economic"
   ]
  },
  {
   "cell_type": "markdown",
   "id": "d31937b8",
   "metadata": {},
   "source": [
    "# Comparison: SVJ vs. SVI"
   ]
  },
  {
   "cell_type": "code",
   "execution_count": null,
   "id": "33473985",
   "metadata": {},
   "outputs": [],
   "source": []
  }
 ],
 "metadata": {
  "kernelspec": {
   "display_name": "Python 3",
   "language": "python",
   "name": "python3"
  },
  "language_info": {
   "codemirror_mode": {
    "name": "ipython",
    "version": 3
   },
   "file_extension": ".py",
   "mimetype": "text/x-python",
   "name": "python",
   "nbconvert_exporter": "python",
   "pygments_lexer": "ipython3",
   "version": "3.8.8"
  }
 },
 "nbformat": 4,
 "nbformat_minor": 5
}
