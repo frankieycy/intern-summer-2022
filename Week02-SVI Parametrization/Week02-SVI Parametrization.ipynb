{
 "cells": [
  {
   "cell_type": "markdown",
   "id": "f6b4ec03",
   "metadata": {},
   "source": [
    "# Week02-SVI Parametrization"
   ]
  },
  {
   "cell_type": "markdown",
   "id": "9d2a0483",
   "metadata": {},
   "source": [
    "# Arbitrage Constraints"
   ]
  },
  {
   "cell_type": "markdown",
   "id": "c71006b0",
   "metadata": {},
   "source": [
    "## Lee Moment Formula"
   ]
  },
  {
   "cell_type": "markdown",
   "id": "f3e48b19",
   "metadata": {},
   "source": [
    "## Static Arbitrage (Butterfly/Calendar)"
   ]
  },
  {
   "cell_type": "markdown",
   "id": "f6f436e4",
   "metadata": {},
   "source": [
    "# SVI Parametrization"
   ]
  },
  {
   "cell_type": "markdown",
   "id": "937f95d3",
   "metadata": {},
   "source": [
    "## SVI Raw"
   ]
  },
  {
   "cell_type": "markdown",
   "id": "51c5a75f",
   "metadata": {},
   "source": [
    "## SVI Jump Wings"
   ]
  },
  {
   "cell_type": "markdown",
   "id": "5b1259e2",
   "metadata": {},
   "source": [
    "## Butterfly Arbitrage"
   ]
  },
  {
   "cell_type": "markdown",
   "id": "b3855287",
   "metadata": {},
   "source": [
    "## Calibration of Slice"
   ]
  },
  {
   "cell_type": "markdown",
   "id": "1fdf921e",
   "metadata": {},
   "source": [
    "## Naive Slice Fitting"
   ]
  },
  {
   "cell_type": "markdown",
   "id": "c2986daf",
   "metadata": {},
   "source": [
    "## Calibration of Surface (Crossedness Approach)"
   ]
  },
  {
   "cell_type": "markdown",
   "id": "99ea408d",
   "metadata": {},
   "source": [
    "## Time-interpolation"
   ]
  },
  {
   "cell_type": "markdown",
   "id": "c0d95884",
   "metadata": {},
   "source": [
    "## SVI Surface"
   ]
  },
  {
   "cell_type": "markdown",
   "id": "0bf3c806",
   "metadata": {},
   "source": [
    "## Term-structure of Parameters"
   ]
  },
  {
   "cell_type": "markdown",
   "id": "025fb53d",
   "metadata": {},
   "source": [
    "## Term-structure of ATM"
   ]
  },
  {
   "cell_type": "markdown",
   "id": "1c9be217",
   "metadata": {},
   "source": [
    "# Surface SVI"
   ]
  },
  {
   "cell_type": "markdown",
   "id": "8e36fb47",
   "metadata": {},
   "source": [
    "## Skew Kernel"
   ]
  },
  {
   "cell_type": "markdown",
   "id": "2132a083",
   "metadata": {},
   "source": [
    "## Heston-SVI Calibration"
   ]
  },
  {
   "cell_type": "markdown",
   "id": "8d46c415",
   "metadata": {},
   "source": [
    "## Power Law-SVI Calibration"
   ]
  },
  {
   "cell_type": "markdown",
   "id": "21043ff6",
   "metadata": {},
   "source": [
    "## Sqrt-SVI Calibration"
   ]
  },
  {
   "cell_type": "markdown",
   "id": "5e52d860",
   "metadata": {},
   "source": [
    "# Extended SVI"
   ]
  },
  {
   "cell_type": "markdown",
   "id": "0bdf0641",
   "metadata": {},
   "source": [
    "## Corr Kernel"
   ]
  },
  {
   "cell_type": "markdown",
   "id": "51628d68",
   "metadata": {},
   "source": []
  }
 ],
 "metadata": {
  "kernelspec": {
   "display_name": "Python 3",
   "language": "python",
   "name": "python3"
  },
  "language_info": {
   "codemirror_mode": {
    "name": "ipython",
    "version": 3
   },
   "file_extension": ".py",
   "mimetype": "text/x-python",
   "name": "python",
   "nbconvert_exporter": "python",
   "pygments_lexer": "ipython3",
   "version": "3.8.8"
  }
 },
 "nbformat": 4,
 "nbformat_minor": 5
}
