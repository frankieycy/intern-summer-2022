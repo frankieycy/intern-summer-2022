{
 "cells": [
  {
   "cell_type": "markdown",
   "id": "1ef69fdd",
   "metadata": {},
   "source": [
    "# Week01-Historical Options Surface"
   ]
  },
  {
   "cell_type": "markdown",
   "id": "ba1dcb71",
   "metadata": {},
   "source": [
    "# Index Options Data"
   ]
  },
  {
   "cell_type": "markdown",
   "id": "31811f5b",
   "metadata": {},
   "source": [
    "# Implied Vol Datasets"
   ]
  },
  {
   "cell_type": "markdown",
   "id": "68e7c578",
   "metadata": {},
   "source": [
    "## Implied Forward & Discount"
   ]
  },
  {
   "cell_type": "markdown",
   "id": "291a84fd",
   "metadata": {},
   "source": [
    "## Delta-Correction"
   ]
  },
  {
   "cell_type": "markdown",
   "id": "6f1c0468",
   "metadata": {},
   "source": [
    "## Standardized Format"
   ]
  },
  {
   "cell_type": "markdown",
   "id": "45863416",
   "metadata": {},
   "source": [
    "## Calibration in Forward Measure"
   ]
  },
  {
   "cell_type": "code",
   "execution_count": null,
   "id": "f4991192",
   "metadata": {},
   "outputs": [],
   "source": []
  }
 ],
 "metadata": {
  "kernelspec": {
   "display_name": "Python 3",
   "language": "python",
   "name": "python3"
  },
  "language_info": {
   "codemirror_mode": {
    "name": "ipython",
    "version": 3
   },
   "file_extension": ".py",
   "mimetype": "text/x-python",
   "name": "python",
   "nbconvert_exporter": "python",
   "pygments_lexer": "ipython3",
   "version": "3.8.8"
  }
 },
 "nbformat": 4,
 "nbformat_minor": 5
}
